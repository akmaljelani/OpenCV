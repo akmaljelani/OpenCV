{
  "nbformat": 4,
  "nbformat_minor": 0,
  "metadata": {
    "colab": {
      "name": "OpenCV Intro & Image Manipulations",
      "provenance": []
    },
    "kernelspec": {
      "name": "python3",
      "display_name": "Python 3"
    },
    "language_info": {
      "name": "python"
    }
  },
  "cells": [
    {
      "cell_type": "code",
      "execution_count": null,
      "metadata": {
        "id": "WO7kP3GoSu_x"
      },
      "outputs": [],
      "source": [
        "import cv2"
      ]
    },
    {
      "cell_type": "code",
      "source": [
        "## 3 types of load image. greyscale, colour & transparent\n",
        "\n",
        "img = cv2.imread('assets/logo.png,'-1)\n",
        "img = cv2.resize(img,(400,400))  ##resizing image with pixel\n",
        "img = cv2.resize(img,(0,0), fx=0.5, fy=0.5)  ##resizing with ratio\n",
        "img = cv2.rotate(img, cv2.cv2.ROTATE_90_CLOCKWISE)  ## rotating image\n",
        "\n",
        "cv2.imwrite('new_img.jpg', img) ## to save the image\n",
        "\n",
        "\n",
        "\n",
        "cv2.imshow('Image', img)  ## first is a labeled window\n",
        "cv2.waitkey(0)\n",
        "cv2.destroyAllWindows()\n",
        "\n",
        "-1, cv2.IMREAD_COLOR : Load a colour image. Transparency will not be loaded\n",
        "0, cv2.IMREAD_GRAYSCALE : Loads image in grayscale mode\n",
        "1, cv2.IMREAD_UNCHANGED : Loads image including alpha channel / transparent"
      ],
      "metadata": {
        "id": "hzzuWEZ_S9Li"
      },
      "execution_count": null,
      "outputs": []
    },
    {
      "cell_type": "code",
      "source": [
        "## image is represented in numpy array\n",
        "print(img)\n",
        "\n",
        "print(type(img))  ## <class 'numpy.ndarray'>\n",
        "print(img.shape)  ## 3 columns (1000, 1000, 3) 3 = BGR\n",
        "\n",
        "\n",
        "# 2 by 2 pixel image representation. 0 is black pixel. 255 is white pixel\n",
        "\n",
        "[\n",
        "[[0, 0, 0], [255, 255, 255]],\n",
        "[[0, 0, 0], [255, 255, 255]]  \n",
        "]\n",
        "\n",
        "\n",
        "# reading the BGR\n",
        "\n",
        "blue green red\n",
        "[0, 0, 0] # the amount of blue is 0, amount of green is 0, amount of red is 0\n",
        "\n",
        "# 0 to 255 (255 is max value)\n",
        "# 0 = none , 255 = all\n",
        "\n",
        "if\n",
        "\n",
        "blue green red\n",
        "[255, 0, 0] ## have blue value, none green & red value\n",
        "\n",
        "if \n",
        "blue green red\n",
        "[128, 0, 0] ## have a slight blue value(light blue), none green & red value"
      ],
      "metadata": {
        "id": "RayohPHETmUX"
      },
      "execution_count": null,
      "outputs": []
    },
    {
      "cell_type": "markdown",
      "source": [
        "Accessing pixel values"
      ],
      "metadata": {
        "id": "xnDTEfkqZ8ni"
      }
    },
    {
      "cell_type": "code",
      "source": [
        "## similar to iloc\n",
        "\n",
        "img = cv2.imread('assets/logo.jpg', -1)\n",
        "print(img[0]) ## looking at image in the first row\n",
        "print(img[257][45:400]) ## looking at 257th row & pixels between 45 to 400 in the first row. \n",
        "                          ## Somewhat middle of image if total rows are 500++\n",
        "\n",
        "\n",
        "## to change current pixel to random numbers (pixel)\n",
        "\n",
        "import random \n",
        "## looping through first 100 rows in an image\n",
        "for i in range(100):\n",
        "  for j in range(img.shape[1]):     # shape is 3 (rows, columns, channels)\n",
        "      img[i],[j] = [random.randint(0, 255), random.randint(0, 255), random.randint(0, 255)]\n",
        "\n",
        "cv2.imshow('Image', img)\n",
        "cv2.waitKey(0)\n",
        "cv2.destroyAllWindows()\n",
        "\n"
      ],
      "metadata": {
        "id": "jVpb_sgzZ_HU"
      },
      "execution_count": null,
      "outputs": []
    },
    {
      "cell_type": "markdown",
      "source": [
        "Copy part of an image "
      ],
      "metadata": {
        "id": "7csCtmhBdeiH"
      }
    },
    {
      "cell_type": "code",
      "source": [
        "#using numpy slice for multiple (select arrays)\n",
        "\n",
        "img = cv2.imread('assets/logo.jpg', -1)\n",
        "\n",
        "## TO PASTE A SECTION OF IMAGE ON TOP OF SAME IMAGE\n",
        "tag = img[500:700, 600:900]  # dimension copied from must be same for both\n",
        "img[100:300, 650:950] = tag\n",
        "\n",
        "cv2.imshow('Image', img)\n",
        "cv2.waitKey(0)\n",
        "cv2.destroyAllWindows()"
      ],
      "metadata": {
        "id": "Y64IO-__bPtm"
      },
      "execution_count": null,
      "outputs": []
    },
    {
      "cell_type": "markdown",
      "source": [
        ""
      ],
      "metadata": {
        "id": "iW7QuBnWezb9"
      }
    },
    {
      "cell_type": "code",
      "source": [
        ""
      ],
      "metadata": {
        "id": "8WxCBLNRe-9x"
      },
      "execution_count": null,
      "outputs": []
    }
  ]
}