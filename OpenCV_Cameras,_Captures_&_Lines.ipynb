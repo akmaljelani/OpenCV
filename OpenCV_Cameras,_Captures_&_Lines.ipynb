{
  "nbformat": 4,
  "nbformat_minor": 0,
  "metadata": {
    "colab": {
      "name": "OpenCV Cameras, Captures & Lines",
      "provenance": []
    },
    "kernelspec": {
      "name": "python3",
      "display_name": "Python 3"
    },
    "language_info": {
      "name": "python"
    }
  },
  "cells": [
    {
      "cell_type": "code",
      "execution_count": null,
      "metadata": {
        "id": "7DxovT7sdic7"
      },
      "outputs": [],
      "source": [
        "import cv2\n",
        "import numpy as np\n"
      ]
    },
    {
      "cell_type": "markdown",
      "source": [
        "Load a webcam image"
      ],
      "metadata": {
        "id": "GiUsIRSbeLHN"
      }
    },
    {
      "cell_type": "code",
      "source": [
        "cap = cv2.VideoCapture(0)  ## Number of how many webcams\n",
        "cap = cv2.VideoCapture('afdfa.mp4') # upload a video\n",
        "\n",
        "while True:\n",
        "  ret, frame = cap.read()   # ret/return is to know if the device work properly\n",
        "\n",
        "  cv2.imshow('frame', frame)\n",
        "\n",
        "  if cv2.waitKey(1) == ord('q'):   #waiting 1 millisecond. Doing single integer value\n",
        "    break                           # grabbing 1 frame per 1 millisecond.\n",
        "\n",
        "cap.release()   ## taking hold of the webcam\n",
        "cv2.destroyAllWindows()"
      ],
      "metadata": {
        "id": "bTdfYorYdxhT"
      },
      "execution_count": null,
      "outputs": []
    },
    {
      "cell_type": "markdown",
      "source": [
        "Creating 4 images from webcam"
      ],
      "metadata": {
        "id": "ltude6Opfk77"
      }
    },
    {
      "cell_type": "code",
      "source": [
        "cap = cv2.VideoCapture(0)  ## Number of how many webcams\n",
        "cap = cv2.VideoCapture('afdfa.mp4') # upload a video\n",
        "\n",
        "while True:\n",
        "  ret, frame = cap.read()   \n",
        "  width = int(cap.get(3))  #getting width properties of video frame\n",
        "  hieght = int(cap.get(4)) # getting height. ** There are 17 properties number.\n",
        "  \n",
        "  image = np.zeros(frame.shape, np.uint8)\n",
        "  smaller_frame = cv2.resize(frame, (0, 0), fx=0.5, fy=0.5)\n",
        "  image[:height//2, :width//2] = cv2.rotate(smaller_frame, cv2.cv2.ROTATE_180)  # top left rotated\n",
        "  ## rotate image need to have similar size. Example rotate 180\n",
        "  image[height//2:, :width//2] = smaller_frame  # bottom left\n",
        "  image[:height//2:, width//2] = smaller_frame  # top right\n",
        "  image[height//2:, width//2] = smaller_frame  #bottom right\n",
        "\n",
        "  cv2.imshow('frame', image)\n",
        "\n",
        "  if cv2.waitKey(1) == ord('q'):   \n",
        "    break                           \n",
        "\n",
        "cap.release()   ## taking hold of the webcam\n",
        "cv2.destroyAllWindows()"
      ],
      "metadata": {
        "id": "C4_voU6eff5-"
      },
      "execution_count": null,
      "outputs": []
    },
    {
      "cell_type": "markdown",
      "source": [
        "Elementary drawings (Line, circle, boxes)\n",
        "\n",
        "- COORDINATES IN COMPUTER VISION STARTS FROM TOP LEFT. (0,0) is Top left.\n",
        "- X increases to the right\n",
        "- Y increases going down\n",
        "- Therefore, (width, height) will be bottom right corner. ie max value.\n",
        "\n",
        "** BUT, Coordinate for putText is from bottom left corner."
      ],
      "metadata": {
        "id": "mSQFINAYiVBM"
      }
    },
    {
      "cell_type": "code",
      "source": [
        "cap = cv2.VideoCapture(0)  \n",
        "cap = cv2.VideoCapture('afdfa.mp4') \n",
        "\n",
        "while True:\n",
        "  ret, frame = cap.read()\n",
        "  width = int(cap.get(3))\n",
        "  height = int(cap.get(4))\n",
        "\n",
        "\n",
        "## source image, start position, end position, colour, line thickness\n",
        "## blue line across the screen diagonally\n",
        "  img = cv2.line(frame, (0, 0), (width, height), (255, 0, 0), 10)\n",
        "  img = cv2.line(img, (0, height), (width, 0), (0, 255, 0), 5)  # thinner green line crossing on top   \n",
        "\n",
        "  img = cv2.rectangle(img, (100, 100), (200,200), (128, 128, 128), 5)  # use -1 to fill the rectangle\n",
        "  \n",
        "## for circle: source image, center position, radius, colour, thickness  \n",
        "  img = cv2.circle(img, (300, 300), 60, (0, 0, 255), -1)\n",
        "  \n",
        "## for text: source image, text, center position, font, font scale, colour, line thickness, line type.  \n",
        "  font = cv2.FONT_HERSHEY_SIMPLEX\n",
        "  img = cv2.putText(img, 'Hello Akmal', (10, height -10), font, 1, (0, 0, 0), 5, cv2.LINE_AA)\n",
        "\n",
        "\n",
        "  cv2.imshow('frame', frame)\n",
        "\n",
        "  if cv2.waitKey(1) == ord('q'):   \n",
        "    break                           \n",
        "\n",
        "cap.release()   \n",
        "cv2.destroyAllWindows()"
      ],
      "metadata": {
        "id": "8OVYPRuAibbI"
      },
      "execution_count": null,
      "outputs": []
    }
  ]
}